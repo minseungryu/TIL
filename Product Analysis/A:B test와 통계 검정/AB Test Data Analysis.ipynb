{
 "cells": [
  {
   "cell_type": "markdown",
   "id": "3be7dfce-faec-45f1-85a2-8b3a5f238baa",
   "metadata": {},
   "source": [
    "# AB Test Data Analysis\n",
    "- 출처 : https://www.kaggle.com/code/sergylog/ab-test-data-analysis"
   ]
  },
  {
   "cell_type": "markdown",
   "id": "0cfd32ae-55b6-4b14-8f49-d64fba36d171",
   "metadata": {},
   "source": [
    "## 1. Loading and processing data "
   ]
  },
  {
   "cell_type": "code",
   "execution_count": 20,
   "id": "9f7da564-8696-4f70-adf4-9f0969d0813e",
   "metadata": {
    "tags": []
   },
   "outputs": [],
   "source": [
    "import numpy as np\n",
    "import pandas as pd\n",
    "from scipy.stats import mannwhitneyu\n",
    "from scipy.stats import ttest_ind\n",
    "from scipy.stats import norm\n",
    "from scipy.stats import pearsonr\n",
    "from scipy.stats import shapiro\n",
    "import matplotlib.pyplot as plt\n",
    "import seaborn as sns\n",
    "from tqdm.auto import tqdm"
   ]
  },
  {
   "cell_type": "code",
   "execution_count": 21,
   "id": "d56d6ffd-dd21-4b13-b4a6-8c7f8154e8a2",
   "metadata": {
    "tags": []
   },
   "outputs": [],
   "source": [
    "df = pd.read_csv('AB_Test_Results.csv')"
   ]
  },
  {
   "cell_type": "markdown",
   "id": "63268e2e-5c64-4215-9767-918461a76bce",
   "metadata": {},
   "source": [
    "- 데이터 탐색"
   ]
  },
  {
   "cell_type": "code",
   "execution_count": 22,
   "id": "e06ed871-a87b-43c0-99ce-883a4fb96384",
   "metadata": {},
   "outputs": [
    {
     "data": {
      "text/html": [
       "<div>\n",
       "<style scoped>\n",
       "    .dataframe tbody tr th:only-of-type {\n",
       "        vertical-align: middle;\n",
       "    }\n",
       "\n",
       "    .dataframe tbody tr th {\n",
       "        vertical-align: top;\n",
       "    }\n",
       "\n",
       "    .dataframe thead th {\n",
       "        text-align: right;\n",
       "    }\n",
       "</style>\n",
       "<table border=\"1\" class=\"dataframe\">\n",
       "  <thead>\n",
       "    <tr style=\"text-align: right;\">\n",
       "      <th></th>\n",
       "      <th>USER_ID</th>\n",
       "      <th>VARIANT_NAME</th>\n",
       "      <th>REVENUE</th>\n",
       "    </tr>\n",
       "  </thead>\n",
       "  <tbody>\n",
       "    <tr>\n",
       "      <th>0</th>\n",
       "      <td>737</td>\n",
       "      <td>variant</td>\n",
       "      <td>0.0</td>\n",
       "    </tr>\n",
       "    <tr>\n",
       "      <th>1</th>\n",
       "      <td>2423</td>\n",
       "      <td>control</td>\n",
       "      <td>0.0</td>\n",
       "    </tr>\n",
       "    <tr>\n",
       "      <th>2</th>\n",
       "      <td>9411</td>\n",
       "      <td>control</td>\n",
       "      <td>0.0</td>\n",
       "    </tr>\n",
       "    <tr>\n",
       "      <th>3</th>\n",
       "      <td>7311</td>\n",
       "      <td>control</td>\n",
       "      <td>0.0</td>\n",
       "    </tr>\n",
       "    <tr>\n",
       "      <th>4</th>\n",
       "      <td>6174</td>\n",
       "      <td>variant</td>\n",
       "      <td>0.0</td>\n",
       "    </tr>\n",
       "  </tbody>\n",
       "</table>\n",
       "</div>"
      ],
      "text/plain": [
       "   USER_ID VARIANT_NAME  REVENUE\n",
       "0      737      variant      0.0\n",
       "1     2423      control      0.0\n",
       "2     9411      control      0.0\n",
       "3     7311      control      0.0\n",
       "4     6174      variant      0.0"
      ]
     },
     "execution_count": 22,
     "metadata": {},
     "output_type": "execute_result"
    }
   ],
   "source": [
    "df.head()"
   ]
  },
  {
   "cell_type": "code",
   "execution_count": 23,
   "id": "0661f774-e2d1-4a6b-bb8d-fa2dc38f8d9a",
   "metadata": {
    "tags": []
   },
   "outputs": [
    {
     "data": {
      "text/plain": [
       "USER_ID         6324\n",
       "VARIANT_NAME       2\n",
       "REVENUE          101\n",
       "dtype: int64"
      ]
     },
     "execution_count": 23,
     "metadata": {},
     "output_type": "execute_result"
    }
   ],
   "source": [
    "df.nunique()"
   ]
  },
  {
   "cell_type": "code",
   "execution_count": 24,
   "id": "5a13e9c6-be48-43e6-b6fd-6506a49fd50b",
   "metadata": {
    "tags": []
   },
   "outputs": [
    {
     "data": {
      "text/html": [
       "<div>\n",
       "<style scoped>\n",
       "    .dataframe tbody tr th:only-of-type {\n",
       "        vertical-align: middle;\n",
       "    }\n",
       "\n",
       "    .dataframe tbody tr th {\n",
       "        vertical-align: top;\n",
       "    }\n",
       "\n",
       "    .dataframe thead th {\n",
       "        text-align: right;\n",
       "    }\n",
       "</style>\n",
       "<table border=\"1\" class=\"dataframe\">\n",
       "  <thead>\n",
       "    <tr style=\"text-align: right;\">\n",
       "      <th></th>\n",
       "      <th>USER_ID</th>\n",
       "      <th>REVENUE</th>\n",
       "    </tr>\n",
       "  </thead>\n",
       "  <tbody>\n",
       "    <tr>\n",
       "      <th>count</th>\n",
       "      <td>10000.000000</td>\n",
       "      <td>10000.000000</td>\n",
       "    </tr>\n",
       "    <tr>\n",
       "      <th>mean</th>\n",
       "      <td>4981.080200</td>\n",
       "      <td>0.099447</td>\n",
       "    </tr>\n",
       "    <tr>\n",
       "      <th>std</th>\n",
       "      <td>2890.590115</td>\n",
       "      <td>2.318529</td>\n",
       "    </tr>\n",
       "    <tr>\n",
       "      <th>min</th>\n",
       "      <td>2.000000</td>\n",
       "      <td>0.000000</td>\n",
       "    </tr>\n",
       "    <tr>\n",
       "      <th>25%</th>\n",
       "      <td>2468.750000</td>\n",
       "      <td>0.000000</td>\n",
       "    </tr>\n",
       "    <tr>\n",
       "      <th>50%</th>\n",
       "      <td>4962.000000</td>\n",
       "      <td>0.000000</td>\n",
       "    </tr>\n",
       "    <tr>\n",
       "      <th>75%</th>\n",
       "      <td>7511.500000</td>\n",
       "      <td>0.000000</td>\n",
       "    </tr>\n",
       "    <tr>\n",
       "      <th>max</th>\n",
       "      <td>10000.000000</td>\n",
       "      <td>196.010000</td>\n",
       "    </tr>\n",
       "  </tbody>\n",
       "</table>\n",
       "</div>"
      ],
      "text/plain": [
       "            USER_ID       REVENUE\n",
       "count  10000.000000  10000.000000\n",
       "mean    4981.080200      0.099447\n",
       "std     2890.590115      2.318529\n",
       "min        2.000000      0.000000\n",
       "25%     2468.750000      0.000000\n",
       "50%     4962.000000      0.000000\n",
       "75%     7511.500000      0.000000\n",
       "max    10000.000000    196.010000"
      ]
     },
     "execution_count": 24,
     "metadata": {},
     "output_type": "execute_result"
    }
   ],
   "source": [
    "df.describe()"
   ]
  },
  {
   "cell_type": "markdown",
   "id": "b27ca8d3-54b7-4608-bcbf-cbc1904918d8",
   "metadata": {},
   "source": [
    "- a/b test 그룹 확인"
   ]
  },
  {
   "cell_type": "code",
   "execution_count": 25,
   "id": "30604fde-6464-43b1-8b06-b121c4a09566",
   "metadata": {
    "tags": []
   },
   "outputs": [
    {
     "data": {
      "text/plain": [
       "1    4783\n",
       "2    1541\n",
       "Name: VARIANT_NAME, dtype: int64"
      ]
     },
     "execution_count": 25,
     "metadata": {},
     "output_type": "execute_result"
    }
   ],
   "source": [
    "double_variant_count = df.groupby('USER_ID')['VARIANT_NAME'].nunique().value_counts()\n",
    "double_variant_count"
   ]
  },
  {
   "cell_type": "code",
   "execution_count": 26,
   "id": "efce014b-5a5a-47d7-bf7d-a26908207063",
   "metadata": {
    "tags": []
   },
   "outputs": [
    {
     "data": {
      "text/plain": [
       "1    0.756325\n",
       "2    0.243675\n",
       "Name: VARIANT_NAME, dtype: float64"
      ]
     },
     "execution_count": 26,
     "metadata": {},
     "output_type": "execute_result"
    }
   ],
   "source": [
    "double_variant_count / double_variant_count.sum()"
   ]
  },
  {
   "cell_type": "markdown",
   "id": "c4a928cd-ec74-45ea-8cea-deb84702e5d6",
   "metadata": {},
   "source": [
    "> 👉 2개 처치가 모두 적용된 유저가 섞이면, 결과 해석이 어려워진다. 따라서, 이러한 유저들은 제외하고 분석한다"
   ]
  },
  {
   "cell_type": "code",
   "execution_count": 27,
   "id": "80d87f2a-1aed-4e27-940d-62758cd3c00a",
   "metadata": {
    "tags": []
   },
   "outputs": [
    {
     "data": {
      "text/plain": [
       "USER_ID\n",
       "2         True\n",
       "3        False\n",
       "4         True\n",
       "5         True\n",
       "6         True\n",
       "         ...  \n",
       "9993      True\n",
       "9995      True\n",
       "9996     False\n",
       "9998      True\n",
       "10000    False\n",
       "Name: VARIANT_NAME, Length: 6324, dtype: bool"
      ]
     },
     "execution_count": 27,
     "metadata": {},
     "output_type": "execute_result"
    }
   ],
   "source": [
    "# 1개의 테스트 그룹에 속한 유저만 보기\n",
    "single_variant_users = df.groupby('USER_ID')['VARIANT_NAME'].nunique() == 1\n",
    "single_variant_users"
   ]
  },
  {
   "cell_type": "code",
   "execution_count": 28,
   "id": "44aa066a-d8e2-41b6-90a7-aac9680f0f01",
   "metadata": {
    "tags": []
   },
   "outputs": [],
   "source": [
    "# 1개 그룹에만 속한 유저 필터링\n",
    "df = df[df['USER_ID'].isin(single_variant_users.index)]"
   ]
  },
  {
   "cell_type": "code",
   "execution_count": 29,
   "id": "beea69a1-2a74-471e-a615-51e2ecd103cd",
   "metadata": {
    "tags": []
   },
   "outputs": [
    {
     "data": {
      "text/plain": [
       "True"
      ]
     },
     "execution_count": 29,
     "metadata": {},
     "output_type": "execute_result"
    }
   ],
   "source": [
    "# 행 개수 확인\n",
    "df.groupby('USER_ID')['VARIANT_NAME'].nunique().value_counts().iloc[0] == double_variant_count.iloc[0]"
   ]
  },
  {
   "cell_type": "markdown",
   "id": "c224402c-e37a-4a0c-a656-90b23ef4341b",
   "metadata": {},
   "source": [
    "- 데이터 분포 확인"
   ]
  },
  {
   "cell_type": "code",
   "execution_count": 30,
   "id": "3eb7f6a5-d0a1-4e2f-a38e-b447e0e14816",
   "metadata": {
    "tags": []
   },
   "outputs": [
    {
     "data": {
      "text/plain": [
       "<Axes: xlabel='VARIANT_NAME', ylabel='REVENUE'>"
      ]
     },
     "execution_count": 30,
     "metadata": {},
     "output_type": "execute_result"
    },
    {
     "data": {
      "image/png": "[encoded data removed]",
      "text/plain": [
       "<Figure size 640x480 with 1 Axes>"
      ]
     },
     "metadata": {},
     "output_type": "display_data"
    }
   ],
   "source": [
    "sns.boxplot(x='VARIANT_NAME', y='REVENUE', data=df)"
   ]
  },
  {
   "cell_type": "markdown",
   "id": "73afcc98-b53e-4463-bd3f-fbd0f9ca7e4c",
   "metadata": {},
   "source": [
    "> outlier 확인 : 추후 매출액 내림차순으로 확인"
   ]
  },
  {
   "cell_type": "code",
   "execution_count": 34,
   "id": "8160b523-f163-4050-8621-b80e98c21474",
   "metadata": {
    "tags": []
   },
   "outputs": [
    {
     "data": {
      "text/html": [
       "<div>\n",
       "<style scoped>\n",
       "    .dataframe tbody tr th:only-of-type {\n",
       "        vertical-align: middle;\n",
       "    }\n",
       "\n",
       "    .dataframe tbody tr th {\n",
       "        vertical-align: top;\n",
       "    }\n",
       "\n",
       "    .dataframe thead th {\n",
       "        text-align: right;\n",
       "    }\n",
       "</style>\n",
       "<table border=\"1\" class=\"dataframe\">\n",
       "  <thead>\n",
       "    <tr style=\"text-align: right;\">\n",
       "      <th></th>\n",
       "      <th>USER_ID</th>\n",
       "      <th>VARIANT_NAME</th>\n",
       "      <th>REVENUE</th>\n",
       "    </tr>\n",
       "  </thead>\n",
       "  <tbody>\n",
       "    <tr>\n",
       "      <th>1437</th>\n",
       "      <td>3342</td>\n",
       "      <td>control</td>\n",
       "      <td>196.01</td>\n",
       "    </tr>\n",
       "    <tr>\n",
       "      <th>6447</th>\n",
       "      <td>2881</td>\n",
       "      <td>variant</td>\n",
       "      <td>58.63</td>\n",
       "    </tr>\n",
       "    <tr>\n",
       "      <th>7642</th>\n",
       "      <td>7206</td>\n",
       "      <td>variant</td>\n",
       "      <td>57.46</td>\n",
       "    </tr>\n",
       "    <tr>\n",
       "      <th>9421</th>\n",
       "      <td>6792</td>\n",
       "      <td>control</td>\n",
       "      <td>41.53</td>\n",
       "    </tr>\n",
       "    <tr>\n",
       "      <th>8168</th>\n",
       "      <td>2166</td>\n",
       "      <td>control</td>\n",
       "      <td>29.32</td>\n",
       "    </tr>\n",
       "    <tr>\n",
       "      <th>9125</th>\n",
       "      <td>831</td>\n",
       "      <td>control</td>\n",
       "      <td>25.98</td>\n",
       "    </tr>\n",
       "    <tr>\n",
       "      <th>2482</th>\n",
       "      <td>7356</td>\n",
       "      <td>variant</td>\n",
       "      <td>23.04</td>\n",
       "    </tr>\n",
       "    <tr>\n",
       "      <th>6412</th>\n",
       "      <td>1053</td>\n",
       "      <td>control</td>\n",
       "      <td>20.07</td>\n",
       "    </tr>\n",
       "    <tr>\n",
       "      <th>5217</th>\n",
       "      <td>3684</td>\n",
       "      <td>variant</td>\n",
       "      <td>19.47</td>\n",
       "    </tr>\n",
       "    <tr>\n",
       "      <th>5530</th>\n",
       "      <td>282</td>\n",
       "      <td>control</td>\n",
       "      <td>18.56</td>\n",
       "    </tr>\n",
       "  </tbody>\n",
       "</table>\n",
       "</div>"
      ],
      "text/plain": [
       "      USER_ID VARIANT_NAME  REVENUE\n",
       "1437     3342      control   196.01\n",
       "6447     2881      variant    58.63\n",
       "7642     7206      variant    57.46\n",
       "9421     6792      control    41.53\n",
       "8168     2166      control    29.32\n",
       "9125      831      control    25.98\n",
       "2482     7356      variant    23.04\n",
       "6412     1053      control    20.07\n",
       "5217     3684      variant    19.47\n",
       "5530      282      control    18.56"
      ]
     },
     "execution_count": 34,
     "metadata": {},
     "output_type": "execute_result"
    }
   ],
   "source": [
    "# 이상치 찾기\n",
    "df.sort_values(by='REVENUE', ascending=False).iloc[:10]"
   ]
  },
  {
   "cell_type": "code",
   "execution_count": 35,
   "id": "6daa478d-eb10-45d1-a0bc-ce88f9807408",
   "metadata": {
    "tags": []
   },
   "outputs": [
    {
     "data": {
      "text/html": [
       "<div>\n",
       "<style scoped>\n",
       "    .dataframe tbody tr th:only-of-type {\n",
       "        vertical-align: middle;\n",
       "    }\n",
       "\n",
       "    .dataframe tbody tr th {\n",
       "        vertical-align: top;\n",
       "    }\n",
       "\n",
       "    .dataframe thead th {\n",
       "        text-align: right;\n",
       "    }\n",
       "</style>\n",
       "<table border=\"1\" class=\"dataframe\">\n",
       "  <thead>\n",
       "    <tr style=\"text-align: right;\">\n",
       "      <th></th>\n",
       "      <th>USER_ID</th>\n",
       "      <th>VARIANT_NAME</th>\n",
       "      <th>REVENUE</th>\n",
       "    </tr>\n",
       "  </thead>\n",
       "  <tbody>\n",
       "    <tr>\n",
       "      <th>1437</th>\n",
       "      <td>3342</td>\n",
       "      <td>control</td>\n",
       "      <td>196.01</td>\n",
       "    </tr>\n",
       "  </tbody>\n",
       "</table>\n",
       "</div>"
      ],
      "text/plain": [
       "      USER_ID VARIANT_NAME  REVENUE\n",
       "1437     3342      control   196.01"
      ]
     },
     "execution_count": 35,
     "metadata": {},
     "output_type": "execute_result"
    }
   ],
   "source": [
    "df[df['USER_ID']==3342]"
   ]
  },
  {
   "cell_type": "markdown",
   "id": "972dedc4-bcdf-4405-afdb-97bb818973be",
   "metadata": {},
   "source": [
    "- userid 3342인 건이 여러건으로 잡혀서 수익이 커졌는지 확인 필요 ->> 단일 건으로, 삭제 결정"
   ]
  },
  {
   "cell_type": "code",
   "execution_count": 36,
   "id": "1751918e-9af1-4f7e-9107-e0379e88c728",
   "metadata": {
    "tags": []
   },
   "outputs": [],
   "source": [
    "# 해당 이상치 제외\n",
    "df = df[df['USER_ID']!=3342]"
   ]
  },
  {
   "cell_type": "code",
   "execution_count": 38,
   "id": "2b1cb502-2adb-4ded-b408-86914433ec0b",
   "metadata": {
    "tags": []
   },
   "outputs": [
    {
     "data": {
      "image/png": "[encoded data removed]",
      "text/plain": [
       "<Figure size 500x1200 with 2 Axes>"
      ]
     },
     "metadata": {},
     "output_type": "display_data"
    }
   ],
   "source": [
    "f, axes = plt.subplots(2, sharex=True, figsize = (5, 12))\n",
    "sns.boxplot(ax=axes[0], x='VARIANT_NAME', y='REVENUE', data=df)\n",
    "sns.boxplot(ax=axes[1], x='VARIANT_NAME', y='REVENUE', data=df[df['REVENUE']>0])\n",
    "plt.xticks(np.arange(2), ('control', 'variant'))\n",
    "plt.show()"
   ]
  },
  {
   "cell_type": "markdown",
   "id": "934aa07e-b02e-4624-a997-bdd58df4026f",
   "metadata": {},
   "source": [
    "- 대부분의 고객의 구매가 없음을 확인  "
   ]
  },
  {
   "cell_type": "code",
   "execution_count": 39,
   "id": "8c2acabf-e182-4dec-8bbf-3d4f26fce1fd",
   "metadata": {
    "tags": []
   },
   "outputs": [
    {
     "data": {
      "text/plain": [
       "156"
      ]
     },
     "execution_count": 39,
     "metadata": {},
     "output_type": "execute_result"
    }
   ],
   "source": [
    "# 구매가 없는/있는 고객 비교\n",
    "(df.loc[(df['REVENUE']==0)&(df['USER_ID'].isin(df.loc[df['REVENUE']>0, 'USER_ID'].values)), 'USER_ID']).count()"
   ]
  },
  {
   "cell_type": "markdown",
   "id": "9b069cd4-e9eb-4404-9b41-c273819553ed",
   "metadata": {},
   "source": [
    "- 구매가 0으로 잡혔지만, 사실 0보다 큰 구매 건도 있는 사실 확인 >> 고객별 데이터가 중복됨"
   ]
  },
  {
   "cell_type": "code",
   "execution_count": 40,
   "id": "0691606c-fffd-4784-9935-9e6528dc9bca",
   "metadata": {
    "tags": []
   },
   "outputs": [
    {
     "data": {
      "image/png": "[encoded data removed]",
      "text/plain": [
       "<Figure size 500x1200 with 2 Axes>"
      ]
     },
     "metadata": {},
     "output_type": "display_data"
    }
   ],
   "source": [
    "f, axes = plt.subplots(2, sharex=True, figsize = (5, 12))\n",
    "sns.boxplot(ax=axes[0], x='VARIANT_NAME', y='REVENUE', data=df)\n",
    "sns.boxplot(ax=axes[1], x='VARIANT_NAME', y='REVENUE', data=df[df['REVENUE']>0])\n",
    "plt.xticks(np.arange(2), ('control', 'variant'))\n",
    "plt.show()"
   ]
  },
  {
   "cell_type": "markdown",
   "id": "cb814131-e2e7-46d8-9a0c-f6013e4540f2",
   "metadata": {},
   "source": [
    "- 그룹별로 묶어서 확인해보기"
   ]
  },
  {
   "cell_type": "code",
   "execution_count": 42,
   "id": "c2e9e752-3178-48b1-9483-580f175a67e5",
   "metadata": {},
   "outputs": [],
   "source": [
    "all_stat = df.groupby(by='VARIANT_NAME').agg({'USER_ID':'nunique',\n",
    "                                             'REVENUE':['sum', 'mean', 'median', 'count']})"
   ]
  },
  {
   "cell_type": "code",
   "execution_count": 43,
   "id": "e4945dd4-5885-4674-b3f0-13ea7b89ec5b",
   "metadata": {
    "tags": []
   },
   "outputs": [
    {
     "data": {
      "text/html": [
       "<div>\n",
       "<style scoped>\n",
       "    .dataframe tbody tr th:only-of-type {\n",
       "        vertical-align: middle;\n",
       "    }\n",
       "\n",
       "    .dataframe tbody tr th {\n",
       "        vertical-align: top;\n",
       "    }\n",
       "\n",
       "    .dataframe thead tr th {\n",
       "        text-align: left;\n",
       "    }\n",
       "\n",
       "    .dataframe thead tr:last-of-type th {\n",
       "        text-align: right;\n",
       "    }\n",
       "</style>\n",
       "<table border=\"1\" class=\"dataframe\">\n",
       "  <thead>\n",
       "    <tr>\n",
       "      <th></th>\n",
       "      <th>USER_ID</th>\n",
       "      <th colspan=\"4\" halign=\"left\">REVENUE</th>\n",
       "    </tr>\n",
       "    <tr>\n",
       "      <th></th>\n",
       "      <th>nunique</th>\n",
       "      <th>sum</th>\n",
       "      <th>mean</th>\n",
       "      <th>median</th>\n",
       "      <th>count</th>\n",
       "    </tr>\n",
       "    <tr>\n",
       "      <th>VARIANT_NAME</th>\n",
       "      <th></th>\n",
       "      <th></th>\n",
       "      <th></th>\n",
       "      <th></th>\n",
       "      <th></th>\n",
       "    </tr>\n",
       "  </thead>\n",
       "  <tbody>\n",
       "    <tr>\n",
       "      <th>control</th>\n",
       "      <td>3930</td>\n",
       "      <td>446.99</td>\n",
       "      <td>0.089703</td>\n",
       "      <td>0.0</td>\n",
       "      <td>4983</td>\n",
       "    </tr>\n",
       "    <tr>\n",
       "      <th>variant</th>\n",
       "      <td>3934</td>\n",
       "      <td>351.47</td>\n",
       "      <td>0.070070</td>\n",
       "      <td>0.0</td>\n",
       "      <td>5016</td>\n",
       "    </tr>\n",
       "  </tbody>\n",
       "</table>\n",
       "</div>"
      ],
      "text/plain": [
       "             USER_ID REVENUE                       \n",
       "             nunique     sum      mean median count\n",
       "VARIANT_NAME                                       \n",
       "control         3930  446.99  0.089703    0.0  4983\n",
       "variant         3934  351.47  0.070070    0.0  5016"
      ]
     },
     "execution_count": 43,
     "metadata": {},
     "output_type": "execute_result"
    }
   ],
   "source": [
    "all_stat"
   ]
  },
  {
   "cell_type": "markdown",
   "id": "c3e2293b-a9cb-4558-ba55-a1577ca5c68c",
   "metadata": {},
   "source": [
    "- 각 사용자별로 주문이 얼마나 자주 발생하는지를 평가하기 위한 지표(사용자 1명당 평균 구매 횟수를 계산)\n",
    "-  'REVENUE' 열의 합계를 모든 통계에서 'USER_ID' 열의 고유 사용자 수로 나눈 값"
   ]
  },
  {
   "cell_type": "code",
   "execution_count": 47,
   "id": "c547c53d-8d72-4daa-9fc5-070329ada7e4",
   "metadata": {
    "tags": []
   },
   "outputs": [
    {
     "data": {
      "text/plain": [
       "VARIANT_NAME\n",
       "control    1.267939\n",
       "variant    1.275038\n",
       "dtype: float64"
      ]
     },
     "execution_count": 47,
     "metadata": {},
     "output_type": "execute_result"
    }
   ],
   "source": [
    "orders_per_user = all_stat.loc[:, ('REVENUE', 'count')] / all_stat.loc[:, ('USER_ID', 'nunique')]\n",
    "orders_per_user"
   ]
  },
  {
   "cell_type": "markdown",
   "id": "85414384-6aa0-4f1a-875d-06425e408bfd",
   "metadata": {},
   "source": [
    "- 평균 사용자당 총 매출(사용자당 평균적으로 발생한 총 매출을 계산하는 데 사용되는 지표)"
   ]
  },
  {
   "cell_type": "code",
   "execution_count": 49,
   "id": "c12664c1-c245-4a91-82b0-e5c6bbe0d426",
   "metadata": {
    "tags": []
   },
   "outputs": [
    {
     "data": {
      "text/plain": [
       "VARIANT_NAME\n",
       "control    0.113738\n",
       "variant    0.089342\n",
       "dtype: float64"
      ]
     },
     "execution_count": 49,
     "metadata": {},
     "output_type": "execute_result"
    }
   ],
   "source": [
    "revenue_per_user = all_stat.loc[:, ('REVENUE', 'sum')] / all_stat.loc[:, ('USER_ID', 'nunique')]\n",
    "revenue_per_user"
   ]
  },
  {
   "cell_type": "code",
   "execution_count": 53,
   "id": "c5c3a52b-9086-4ac5-a5bd-3dcf5c606c67",
   "metadata": {
    "tags": []
   },
   "outputs": [],
   "source": [
    "all_stat.loc[:, ('per_user', 'orders')] = orders_per_user\n",
    "all_stat.loc[:, ('per_user', 'revenue')] = revenue_per_user"
   ]
  },
  {
   "cell_type": "code",
   "execution_count": 54,
   "id": "e8c793b7-fa21-43ca-80fc-655b35f503f4",
   "metadata": {
    "tags": []
   },
   "outputs": [
    {
     "data": {
      "text/html": [
       "<div>\n",
       "<style scoped>\n",
       "    .dataframe tbody tr th:only-of-type {\n",
       "        vertical-align: middle;\n",
       "    }\n",
       "\n",
       "    .dataframe tbody tr th {\n",
       "        vertical-align: top;\n",
       "    }\n",
       "\n",
       "    .dataframe thead tr th {\n",
       "        text-align: left;\n",
       "    }\n",
       "\n",
       "    .dataframe thead tr:last-of-type th {\n",
       "        text-align: right;\n",
       "    }\n",
       "</style>\n",
       "<table border=\"1\" class=\"dataframe\">\n",
       "  <thead>\n",
       "    <tr>\n",
       "      <th></th>\n",
       "      <th>USER_ID</th>\n",
       "      <th colspan=\"4\" halign=\"left\">REVENUE</th>\n",
       "      <th colspan=\"2\" halign=\"left\">per_user</th>\n",
       "    </tr>\n",
       "    <tr>\n",
       "      <th></th>\n",
       "      <th>nunique</th>\n",
       "      <th>sum</th>\n",
       "      <th>mean</th>\n",
       "      <th>median</th>\n",
       "      <th>count</th>\n",
       "      <th>orders</th>\n",
       "      <th>revenue</th>\n",
       "    </tr>\n",
       "    <tr>\n",
       "      <th>VARIANT_NAME</th>\n",
       "      <th></th>\n",
       "      <th></th>\n",
       "      <th></th>\n",
       "      <th></th>\n",
       "      <th></th>\n",
       "      <th></th>\n",
       "      <th></th>\n",
       "    </tr>\n",
       "  </thead>\n",
       "  <tbody>\n",
       "    <tr>\n",
       "      <th>control</th>\n",
       "      <td>3930</td>\n",
       "      <td>446.99</td>\n",
       "      <td>0.089703</td>\n",
       "      <td>0.0</td>\n",
       "      <td>4983</td>\n",
       "      <td>1.267939</td>\n",
       "      <td>0.113738</td>\n",
       "    </tr>\n",
       "    <tr>\n",
       "      <th>variant</th>\n",
       "      <td>3934</td>\n",
       "      <td>351.47</td>\n",
       "      <td>0.070070</td>\n",
       "      <td>0.0</td>\n",
       "      <td>5016</td>\n",
       "      <td>1.275038</td>\n",
       "      <td>0.089342</td>\n",
       "    </tr>\n",
       "  </tbody>\n",
       "</table>\n",
       "</div>"
      ],
      "text/plain": [
       "             USER_ID REVENUE                         per_user          \n",
       "             nunique     sum      mean median count    orders   revenue\n",
       "VARIANT_NAME                                                           \n",
       "control         3930  446.99  0.089703    0.0  4983  1.267939  0.113738\n",
       "variant         3934  351.47  0.070070    0.0  5016  1.275038  0.089342"
      ]
     },
     "execution_count": 54,
     "metadata": {},
     "output_type": "execute_result"
    }
   ],
   "source": [
    "all_stat"
   ]
  },
  {
   "cell_type": "markdown",
   "id": "8c7c930c-858c-4231-82d5-4b091b69a10b",
   "metadata": {},
   "source": [
    "> test 그룹에서 유저 1명당 수익이 줄어듦 확인, 하지만 구매 횟수는 늘어났음"
   ]
  },
  {
   "cell_type": "markdown",
   "id": "f97b4f88-7d61-4c9a-9a59-ca5fa6d7d4a4",
   "metadata": {},
   "source": [
    "- 구매한 유저들의 행동 체크"
   ]
  },
  {
   "cell_type": "code",
   "execution_count": 60,
   "id": "ba8fb0cc-f448-4202-89d4-5e1a8521b7a1",
   "metadata": {
    "tags": []
   },
   "outputs": [],
   "source": [
    "paid_stat = df.loc[df.REVENUE != 0].groupby('VARIANT_NAME').agg({'USER_ID':'nunique',\n",
    "                                                                'REVENUE':['sum', 'mean', 'median', 'count']})"
   ]
  },
  {
   "cell_type": "code",
   "execution_count": 61,
   "id": "7d417b60-a6a3-4120-8671-fc98e2d991cc",
   "metadata": {
    "tags": []
   },
   "outputs": [
    {
     "data": {
      "text/html": [
       "<div>\n",
       "<style scoped>\n",
       "    .dataframe tbody tr th:only-of-type {\n",
       "        vertical-align: middle;\n",
       "    }\n",
       "\n",
       "    .dataframe tbody tr th {\n",
       "        vertical-align: top;\n",
       "    }\n",
       "\n",
       "    .dataframe thead tr th {\n",
       "        text-align: left;\n",
       "    }\n",
       "\n",
       "    .dataframe thead tr:last-of-type th {\n",
       "        text-align: right;\n",
       "    }\n",
       "</style>\n",
       "<table border=\"1\" class=\"dataframe\">\n",
       "  <thead>\n",
       "    <tr>\n",
       "      <th></th>\n",
       "      <th>USER_ID</th>\n",
       "      <th colspan=\"4\" halign=\"left\">REVENUE</th>\n",
       "    </tr>\n",
       "    <tr>\n",
       "      <th></th>\n",
       "      <th>nunique</th>\n",
       "      <th>sum</th>\n",
       "      <th>mean</th>\n",
       "      <th>median</th>\n",
       "      <th>count</th>\n",
       "    </tr>\n",
       "    <tr>\n",
       "      <th>VARIANT_NAME</th>\n",
       "      <th></th>\n",
       "      <th></th>\n",
       "      <th></th>\n",
       "      <th></th>\n",
       "      <th></th>\n",
       "    </tr>\n",
       "  </thead>\n",
       "  <tbody>\n",
       "    <tr>\n",
       "      <th>control</th>\n",
       "      <td>79</td>\n",
       "      <td>446.99</td>\n",
       "      <td>5.658101</td>\n",
       "      <td>2.93</td>\n",
       "      <td>79</td>\n",
       "    </tr>\n",
       "    <tr>\n",
       "      <th>variant</th>\n",
       "      <td>71</td>\n",
       "      <td>351.47</td>\n",
       "      <td>4.881528</td>\n",
       "      <td>2.17</td>\n",
       "      <td>72</td>\n",
       "    </tr>\n",
       "  </tbody>\n",
       "</table>\n",
       "</div>"
      ],
      "text/plain": [
       "             USER_ID REVENUE                       \n",
       "             nunique     sum      mean median count\n",
       "VARIANT_NAME                                       \n",
       "control           79  446.99  5.658101   2.93    79\n",
       "variant           71  351.47  4.881528   2.17    72"
      ]
     },
     "execution_count": 61,
     "metadata": {},
     "output_type": "execute_result"
    }
   ],
   "source": [
    "paid_stat"
   ]
  },
  {
   "cell_type": "code",
   "execution_count": 65,
   "id": "555d6559-8af5-45dd-bb4a-cb511f12b9ac",
   "metadata": {
    "tags": []
   },
   "outputs": [],
   "source": [
    "orders_per_user = paid_stat.loc[:, ('REVENUE', 'count')] / paid_stat.loc[:, ('USER_ID', 'nunique')]\n",
    "revenue_per_user = paid_stat.loc[:, ('REVENUE', 'sum')] / paid_stat.loc[:, ('USER_ID', 'nunique')]"
   ]
  },
  {
   "cell_type": "code",
   "execution_count": 66,
   "id": "aa898fac-d97e-49fe-91b0-3abf4f2afee2",
   "metadata": {
    "tags": []
   },
   "outputs": [],
   "source": [
    "paid_stat.loc[:, ('per_user', 'orders')] = orders_per_user\n",
    "paid_stat.loc[:, ('per_user', 'revenue')] = revenue_per_user"
   ]
  },
  {
   "cell_type": "markdown",
   "id": "418b7091-6e3a-4577-8e3c-db327333f87d",
   "metadata": {},
   "source": [
    "- 모든 유저의 수익 분포 & 구매를 한 유저의 수익 분포 비교"
   ]
  },
  {
   "cell_type": "code",
   "execution_count": 73,
   "id": "c1779138-3aa6-4b0b-a4ec-d00cf22e91fb",
   "metadata": {
    "tags": []
   },
   "outputs": [
    {
     "name": "stderr",
     "output_type": "stream",
     "text": [
      "/var/folders/hj/1c4sv0bn28v5lr5g0s_fr4w80000gn/T/ipykernel_31529/786425308.py:2: UserWarning: \n",
      "\n",
      "`distplot` is a deprecated function and will be removed in seaborn v0.14.0.\n",
      "\n",
      "Please adapt your code to use either `displot` (a figure-level function with\n",
      "similar flexibility) or `histplot` (an axes-level function for histograms).\n",
      "\n",
      "For a guide to updating your code to use the new functions, please see\n",
      "https://gist.github.com/mwaskom/de44147ed2974457ad6372750bbe5751\n",
      "\n",
      "  sns.distplot(df.loc[df['VARIANT_NAME']=='control', 'REVENUE'], ax=axes[0], label='control')\n",
      "/var/folders/hj/1c4sv0bn28v5lr5g0s_fr4w80000gn/T/ipykernel_31529/786425308.py:3: UserWarning: \n",
      "\n",
      "`distplot` is a deprecated function and will be removed in seaborn v0.14.0.\n",
      "\n",
      "Please adapt your code to use either `displot` (a figure-level function with\n",
      "similar flexibility) or `histplot` (an axes-level function for histograms).\n",
      "\n",
      "For a guide to updating your code to use the new functions, please see\n",
      "https://gist.github.com/mwaskom/de44147ed2974457ad6372750bbe5751\n",
      "\n",
      "  sns.distplot(df.loc[df['VARIANT_NAME']=='variant', 'REVENUE'], ax=axes[0], label='variant')\n",
      "/var/folders/hj/1c4sv0bn28v5lr5g0s_fr4w80000gn/T/ipykernel_31529/786425308.py:6: UserWarning: \n",
      "\n",
      "`distplot` is a deprecated function and will be removed in seaborn v0.14.0.\n",
      "\n",
      "Please adapt your code to use either `displot` (a figure-level function with\n",
      "similar flexibility) or `histplot` (an axes-level function for histograms).\n",
      "\n",
      "For a guide to updating your code to use the new functions, please see\n",
      "https://gist.github.com/mwaskom/de44147ed2974457ad6372750bbe5751\n",
      "\n",
      "  sns.distplot(df.loc[(df.VARIANT_NAME == 'control') & (df['REVENUE'] > 0), 'REVENUE'], ax=axes[1], label='control')\n",
      "/var/folders/hj/1c4sv0bn28v5lr5g0s_fr4w80000gn/T/ipykernel_31529/786425308.py:7: UserWarning: \n",
      "\n",
      "`distplot` is a deprecated function and will be removed in seaborn v0.14.0.\n",
      "\n",
      "Please adapt your code to use either `displot` (a figure-level function with\n",
      "similar flexibility) or `histplot` (an axes-level function for histograms).\n",
      "\n",
      "For a guide to updating your code to use the new functions, please see\n",
      "https://gist.github.com/mwaskom/de44147ed2974457ad6372750bbe5751\n",
      "\n",
      "  sns.distplot(df.loc[(df.VARIANT_NAME == 'variant') & (df['REVENUE'] > 0), 'REVENUE'], ax=axes[1], label='variant')\n"
     ]
    },
    {
     "data": {
      "image/png": "[encoded data removed]",
      "text/plain": [
       "<Figure size 1000x800 with 2 Axes>"
      ]
     },
     "metadata": {},
     "output_type": "display_data"
    }
   ],
   "source": [
    "f, axes = plt.subplots(2, figsize = (10, 8))\n",
    "sns.distplot(df.loc[df['VARIANT_NAME']=='control', 'REVENUE'], ax=axes[0], label='control')\n",
    "sns.distplot(df.loc[df['VARIANT_NAME']=='variant', 'REVENUE'], ax=axes[0], label='variant')\n",
    "axes[0].set_title('Distribution of revenue of all users')\n",
    "\n",
    "sns.distplot(df.loc[(df.VARIANT_NAME == 'control') & (df['REVENUE'] > 0), 'REVENUE'], ax=axes[1], label='control')\n",
    "sns.distplot(df.loc[(df.VARIANT_NAME == 'variant') & (df['REVENUE'] > 0), 'REVENUE'], ax=axes[1], label='variant')\n",
    "axes[1].set_title('Paying Users revenue Distribution')\n",
    "plt.legend()\n",
    "plt.subplots_adjust(hspace=0.3) "
   ]
  },
  {
   "cell_type": "markdown",
   "id": "1e812601-0c6d-4a74-b38e-849a3296f855",
   "metadata": {},
   "source": [
    "- 구매한 고객에 대해서만 비교한 결과, 실험집단의 수익 분포가 뚜렷하게 높은 구간이 확인됨"
   ]
  },
  {
   "cell_type": "markdown",
   "id": "3b44d1ad-4ab4-47ea-8098-17fc08a5cee2",
   "metadata": {},
   "source": [
    "### 통계 분석\n",
    "#### 1. 정규분포 여부 : shapiro-Wilk 검정"
   ]
  },
  {
   "cell_type": "code",
   "execution_count": 75,
   "id": "39c59413-c698-46d3-8819-53587880b766",
   "metadata": {
    "tags": []
   },
   "outputs": [
    {
     "name": "stderr",
     "output_type": "stream",
     "text": [
      "/Users/angela/opt/anaconda3/envs/mulcamp/lib/python3.10/site-packages/scipy/stats/_morestats.py:1882: UserWarning: p-value may not be accurate for N > 5000.\n",
      "  warnings.warn(\"p-value may not be accurate for N > 5000.\")\n"
     ]
    },
    {
     "data": {
      "text/plain": [
       "ShapiroResult(statistic=0.027033090591430664, pvalue=0.0)"
      ]
     },
     "execution_count": 75,
     "metadata": {},
     "output_type": "execute_result"
    }
   ],
   "source": [
    "shapiro(df.loc[df.VARIANT_NAME=='variant', 'REVENUE'])"
   ]
  },
  {
   "cell_type": "markdown",
   "id": "398bad61-7e28-4d98-a1e7-5f71328347ab",
   "metadata": {},
   "source": [
    "- 실험집단의 수익 분포가 정규분포가 아님을 확인"
   ]
  },
  {
   "cell_type": "markdown",
   "id": "5b4d4d3d-db60-4730-b368-895227d8bffa",
   "metadata": {},
   "source": [
    "#### 2. Mann-Whitney 검정\n",
    "- 수익이 0인 값과 중복값이 많은 데이터이므로 유의해야함\n",
    "- 만-위트니 검정(Mann-Whitney U 검정)은 두 개의 독립적인 표본 간의 비모수적인 비교를 수행하기 위해 사용된다. 비모수 검정은 데이터가 정규 분포를 따르지 않거나 모집단에 대한 분포에 대한 가정을 만족하지 않을 때 사용한다."
   ]
  },
  {
   "cell_type": "code",
   "execution_count": 76,
   "id": "46960388-0332-40c1-b935-0cd45661ea18",
   "metadata": {
    "tags": []
   },
   "outputs": [
    {
     "data": {
      "text/plain": [
       "True     9848\n",
       "False     151\n",
       "Name: REVENUE, dtype: int64"
      ]
     },
     "execution_count": 76,
     "metadata": {},
     "output_type": "execute_result"
    }
   ],
   "source": [
    "(df['REVENUE']==0).value_counts()"
   ]
  },
  {
   "cell_type": "code",
   "execution_count": 77,
   "id": "742d08fb-1042-4de6-b1d4-dcd4b993123c",
   "metadata": {
    "tags": []
   },
   "outputs": [
    {
     "data": {
      "text/plain": [
       "MannwhitneyuResult(statistic=12478180.0, pvalue=0.5291970335120277)"
      ]
     },
     "execution_count": 77,
     "metadata": {},
     "output_type": "execute_result"
    }
   ],
   "source": [
    "mannwhitneyu(df.loc[df.VARIANT_NAME=='variant', 'REVENUE'], df.loc[df.VARIANT_NAME=='control', 'REVENUE'])"
   ]
  },
  {
   "cell_type": "markdown",
   "id": "7ef67ecb-80da-4b6c-91de-ffd68a224025",
   "metadata": {},
   "source": [
    "- 실험집단과 통제집단의 수익에 대한 비모수 검정 결과\n",
    "- statistics : 두 집단 간 순위합으로, 집단이 유사하면 값이 작고, 집단 차이가 크면 큰 값이 나옴\n",
    "- pvalue : 통계적으로 유의미한 차이가 없음\n",
    "- 즉, 두 집단간 차이가 통계적으로 유의미하지 않음"
   ]
  },
  {
   "cell_type": "markdown",
   "id": "e8dd1ca3-f86f-4e7f-a595-d86cce490992",
   "metadata": {},
   "source": [
    "#### 2-2. 수익이 발생한 경우에 대해서만 수행\n",
    "- 역시 유의미한 차이없음"
   ]
  },
  {
   "cell_type": "code",
   "execution_count": 78,
   "id": "b361ab62-32fc-4f17-bc7c-85eff9b59fba",
   "metadata": {
    "tags": []
   },
   "outputs": [
    {
     "data": {
      "text/plain": [
       "MannwhitneyuResult(statistic=3284.0, pvalue=0.10145877111519161)"
      ]
     },
     "execution_count": 78,
     "metadata": {},
     "output_type": "execute_result"
    }
   ],
   "source": [
    "mannwhitneyu(df.loc[(df.VARIANT_NAME=='control')&(df.REVENUE>0), 'REVENUE'],\n",
    "            df.loc[(df.VARIANT_NAME=='variant')&(df.REVENUE>0), 'REVENUE'])"
   ]
  },
  {
   "cell_type": "markdown",
   "id": "e538f751-7362-48c5-a1bb-9255b2fcb63e",
   "metadata": {},
   "source": [
    "#### Bootstrap\n",
    "- AB 테스트 그룹 간 평균 값의 차이에 대한 완전한 정보를 얻기 위해 부트스트래핑을 사용하는 함수를 만들기\n",
    "- 부트스트래핑은 통계치를 추정하는 강력한 리샘플링 기술"
   ]
  },
  {
   "cell_type": "code",
   "execution_count": 83,
   "id": "a3327607-a15f-4b01-83d3-2cbcb3780db3",
   "metadata": {
    "tags": []
   },
   "outputs": [],
   "source": [
    "def get_bootstrap_samples(data, n_samples=1000):\n",
    "    indices = np.random.randint(0, len(data), (n_samples, len(data))) #무작위 인덱스 배열\n",
    "    samples = data[indices]\n",
    "    return samples"
   ]
  },
  {
   "cell_type": "code",
   "execution_count": 90,
   "id": "7303eb18-a406-44c7-a7f6-40ec39846a0a",
   "metadata": {
    "tags": []
   },
   "outputs": [],
   "source": [
    "# 부트스트랩 샘플로 계산한 통계량의 신뢰구간(신뢰수준 95%)\n",
    "def stat_intervals(stat, alpha=0.05):\n",
    "    boundaries = np.percentile(stat, [100 * alpha/2., 100 * (1 - alpha/2.)])\n",
    "    return boundaries"
   ]
  },
  {
   "cell_type": "code",
   "execution_count": 92,
   "id": "3970438d-eae1-4f24-82a2-21162f78afd1",
   "metadata": {
    "tags": []
   },
   "outputs": [],
   "source": [
    "control = get_bootstrap_samples(df.loc[df.VARIANT_NAME=='control', 'REVENUE'].values, 10000)\n",
    "variant = get_bootstrap_samples(df.loc[df.VARIANT_NAME=='variant', 'REVENUE'].values, 10000)"
   ]
  },
  {
   "cell_type": "code",
   "execution_count": 93,
   "id": "1891e210-0a1c-4774-91a5-9947760e8fa8",
   "metadata": {
    "tags": []
   },
   "outputs": [],
   "source": [
    "control_paid = get_bootstrap_samples(df.loc[(df.VARIANT_NAME == 'control') & (df.REVENUE > 0), 'REVENUE'].values, 10000)\n",
    "variant_paid = get_bootstrap_samples(df.loc[(df.VARIANT_NAME == 'variant') & (df.REVENUE > 0), 'REVENUE'].values, 10000)"
   ]
  },
  {
   "cell_type": "code",
   "execution_count": 96,
   "id": "9b45c3d0-4f81-4551-b64f-95bb396186f8",
   "metadata": {
    "tags": []
   },
   "outputs": [
    {
     "name": "stderr",
     "output_type": "stream",
     "text": [
      "/var/folders/hj/1c4sv0bn28v5lr5g0s_fr4w80000gn/T/ipykernel_31529/3053839294.py:2: FutureWarning: \n",
      "\n",
      "`shade` is now deprecated in favor of `fill`; setting `fill=True`.\n",
      "This will become an error in seaborn v0.14.0; please update your code.\n",
      "\n",
      "  sns.kdeplot(np.mean(control, axis=1), shade=True, label='control')\n",
      "/var/folders/hj/1c4sv0bn28v5lr5g0s_fr4w80000gn/T/ipykernel_31529/3053839294.py:3: FutureWarning: \n",
      "\n",
      "`shade` is now deprecated in favor of `fill`; setting `fill=True`.\n",
      "This will become an error in seaborn v0.14.0; please update your code.\n",
      "\n",
      "  sns.kdeplot(np.mean(variant, axis=1), shade=True, label='variant')\n"
     ]
    },
    {
     "data": {
      "image/png": "[encoded data removed]",
      "text/plain": [
       "<Figure size 640x480 with 1 Axes>"
      ]
     },
     "metadata": {},
     "output_type": "display_data"
    }
   ],
   "source": [
    "f, ax = plt.subplots()\n",
    "sns.kdeplot(np.mean(control, axis=1), shade=True, label='control')\n",
    "sns.kdeplot(np.mean(variant, axis=1), shade=True, label='variant')\n",
    "plt.title('Sample Mean distribution for all users')\n",
    "plt.legend()\n",
    "plt.show()"
   ]
  },
  {
   "cell_type": "code",
   "execution_count": 98,
   "id": "ff3ac5da-a843-4d9b-84af-e15a846c4ca6",
   "metadata": {
    "tags": []
   },
   "outputs": [
    {
     "name": "stderr",
     "output_type": "stream",
     "text": [
      "/var/folders/hj/1c4sv0bn28v5lr5g0s_fr4w80000gn/T/ipykernel_31529/3708957539.py:3: FutureWarning: \n",
      "\n",
      "`shade` is now deprecated in favor of `fill`; setting `fill=True`.\n",
      "This will become an error in seaborn v0.14.0; please update your code.\n",
      "\n",
      "  sns.kdeplot(np.mean(control_paid, axis=1), shade=True, label='control')\n",
      "/var/folders/hj/1c4sv0bn28v5lr5g0s_fr4w80000gn/T/ipykernel_31529/3708957539.py:4: FutureWarning: \n",
      "\n",
      "`shade` is now deprecated in favor of `fill`; setting `fill=True`.\n",
      "This will become an error in seaborn v0.14.0; please update your code.\n",
      "\n",
      "  sns.kdeplot(np.mean(variant_paid, axis=1), shade=True, label='variant')\n"
     ]
    },
    {
     "data": {
      "image/png": "[encoded data removed]",
      "text/plain": [
       "<Figure size 640x480 with 1 Axes>"
      ]
     },
     "metadata": {},
     "output_type": "display_data"
    }
   ],
   "source": [
    "f, ax = plt.subplots()\n",
    "# plt.figure(figsize=(20,5))\n",
    "sns.kdeplot(np.mean(control_paid, axis=1), shade=True, label='control')\n",
    "sns.kdeplot(np.mean(variant_paid, axis=1), shade=True, label='variant')\n",
    "plt.title('Sample mean distribution for paying users')\n",
    "plt.legend()\n",
    "plt.show()"
   ]
  }
 ],
 "metadata": {
  "kernelspec": {
   "display_name": "Python 3 (ipykernel)",
   "language": "python",
   "name": "python3"
  },
  "language_info": {
   "codemirror_mode": {
    "name": "ipython",
    "version": 3
   },
   "file_extension": ".py",
   "mimetype": "text/x-python",
   "name": "python",
   "nbconvert_exporter": "python",
   "pygments_lexer": "ipython3",
   "version": "3.10.3"
  }
 },
 "nbformat": 4,
 "nbformat_minor": 5
}
